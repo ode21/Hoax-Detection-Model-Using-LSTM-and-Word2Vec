{
  "cells": [
    {
      "cell_type": "markdown",
      "source": [
        "# **Crawling Data**"
      ],
      "metadata": {
        "id": "dumw_wBndZil"
      }
    },
    {
      "cell_type": "markdown",
      "source": [
        "Crawling data disini menggunakan node.js dengan Twitter Crawler dari tweet-harvest. Kemudian untuk menghasilkan file csv nya menggunakan perintah pandas dari python."
      ],
      "metadata": {
        "id": "gjMWsoyydlrC"
      }
    },
    {
      "cell_type": "markdown",
      "source": [
        "1. - !pip install pandas: Ini adalah perintah dalam lingkungan Python yang digunakan untuk menginstal pustaka atau modul Python yang disebut \"pandas\". Pandas adalah sebuah perpustakaan open-source yang menyediakan struktur data dan analisis data yang mudah digunakan untuk bahasa pemrograman Python. -\n",
        "!curl -sL https://deb.nodesource.com/setup_18.x | sudo -E bash -: Perintah ini menggunakan utilitas curl untuk mengunduh skrip instalasi dari https://deb.nodesource.com/setup_18.x dan kemudian menjalankan skrip tersebut menggunakan bash. Skrip ini mungkin bertujuan untuk menyiapkan repositori Node.js versi 18.x pada sistem Linux Anda. - !sudo apt-get install -y nodejs: Ini adalah perintah untuk menginstal Node.js pada sistem Linux Anda menggunakan manajer paket apt. Node.js adalah lingkungan runtime JavaScript yang memungkinkan Anda menjalankan JavaScript di sisi server. Perintah ini akan menginstal Node.js pada sistem Anda."
      ],
      "metadata": {
        "id": "sphZD5sjdceK"
      }
    },
    {
      "cell_type": "code",
      "execution_count": null,
      "metadata": {
        "id": "FrW2FmCRWiqU"
      },
      "outputs": [],
      "source": [
        "!pip install pandas\n",
        "!curl -sL https://deb.nodesource.com/setup_18.x | sudo -E bash -\n",
        "!sudo apt-get install -y nodejs"
      ]
    },
    {
      "cell_type": "markdown",
      "source": [
        "2. - Proses penarikan. ubah huruf xxx menjadi yang diinginkan. Dan masukan token twitter yang anda punya. Untuk mencari token twitter ada di folder dengan filename mencari authotoken twitter."
      ],
      "metadata": {
        "id": "uD6PEWHEeEvB"
      }
    },
    {
      "cell_type": "code",
      "execution_count": null,
      "metadata": {
        "id": "8tHFM_lEWmqY"
      },
      "outputs": [],
      "source": [
        "# Crawl Data\n",
        "\n",
        "data = 'xxxxx.csv'\n",
        "search_keyword = 'xxxxxx lang:id until:2024-02-29 since:2024-02-01'\n",
        "limit = 200\n",
        "\n",
        "!npx --yes tweet-harvest@latest -o \"{data}\" -s \"{search_keyword}\" -l {limit} --token \"xxxxxisixauthtokenxxxx\""
      ]
    },
    {
      "cell_type": "code",
      "execution_count": null,
      "metadata": {
        "id": "nAgOWSNQWpEI"
      },
      "outputs": [],
      "source": [
        "import pandas as pd\n",
        "\n",
        "file_path = f\"tweets-data/{data}\"\n",
        "df = pd.read_csv(file_path)\n",
        "df = df[['full_text', 'id_str', 'created_at', 'username', 'user_id_str', 'lang', 'location', 'quote_count', 'reply_count', 'retweet_count', 'favorite_count', 'tweet_url']]\n",
        "df['created_at'] = pd.to_datetime(df['created_at'])\n",
        "df.sort_values(by='created_at', ascending=True, inplace=True)"
      ]
    },
    {
      "cell_type": "code",
      "execution_count": null,
      "metadata": {
        "id": "S-LVKjYlWstU"
      },
      "outputs": [],
      "source": [
        "import re\n",
        "\n",
        "def extract_mentions(text):\n",
        "    mentions = re.findall(r'@(\\w+)', text)\n",
        "    return mentions\n",
        "\n",
        "df['mentions'] = df['full_text'].apply(extract_mentions)\n",
        "df['mention_count'] = df['mentions'].apply(len)\n",
        "df['source'] = df['username']\n",
        "\n",
        "def choose_target(mentions):\n",
        "    if mentions:\n",
        "        return mentions[0]\n",
        "    else:\n",
        "        return None\n",
        "\n",
        "df['target'] = df['mentions'].apply(choose_target)\n",
        "\n",
        "df.to_csv('xxxxx.csv', index=False, sep=\";\") # Ganti nama file yang akan disimpan\n",
        "df"
      ]
    }
  ],
  "metadata": {
    "colab": {
      "provenance": []
    },
    "kernelspec": {
      "display_name": "Python 3",
      "name": "python3"
    },
    "language_info": {
      "name": "python"
    }
  },
  "nbformat": 4,
  "nbformat_minor": 0
}